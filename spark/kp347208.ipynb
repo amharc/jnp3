{
 "cells": [
  {
   "cell_type": "markdown",
   "metadata": {},
   "source": [
    "Modify the classpath... JVM <3"
   ]
  },
  {
   "cell_type": "code",
   "execution_count": 1,
   "metadata": {
    "collapsed": false
   },
   "outputs": [
    {
     "name": "stdout",
     "output_type": "stream",
     "text": [
      "Adding 159 artifact(s)\n"
     ]
    },
    {
     "data": {
      "text/plain": []
     },
     "metadata": {},
     "output_type": "display_data"
    }
   ],
   "source": [
    "classpath.add(\n",
    "    \"org.apache.spark\" %% \"spark-core\" % \"1.6.0\",\n",
    "    \"org.apache.spark\" %% \"spark-sql\" % \"1.6.0\",\n",
    "    \"org.apache.spark\" %% \"spark-mllib\" % \"1.6.0\",\n",
    "    \"org.xerial\" % \"sqlite-jdbc\" % \"3.8.6\"\n",
    ")"
   ]
  },
  {
   "cell_type": "markdown",
   "metadata": {},
   "source": [
    "Some imports..."
   ]
  },
  {
   "cell_type": "code",
   "execution_count": 2,
   "metadata": {
    "collapsed": false
   },
   "outputs": [
    {
     "data": {
      "text/plain": [
       "\u001b[32mimport \u001b[36morg.apache.spark.SparkContext\u001b[0m\n",
       "\u001b[32mimport \u001b[36morg.apache.spark.SparkContext._\u001b[0m\n",
       "\u001b[32mimport \u001b[36morg.apache.spark.sql._\u001b[0m\n",
       "\u001b[32mimport \u001b[36morg.apache.spark.sql.functions._\u001b[0m\n",
       "\u001b[32mimport \u001b[36morg.apache.spark.sql.types._\u001b[0m\n",
       "\u001b[32mimport \u001b[36morg.apache.spark.SparkConf\u001b[0m\n",
       "\u001b[32mimport \u001b[36morg.apache.spark.mllib.linalg._\u001b[0m\n",
       "\u001b[32mimport \u001b[36morg.apache.spark.ml\u001b[0m\n",
       "\u001b[32mimport \u001b[36morg.apache.spark.ml.Pipeline\u001b[0m\n",
       "\u001b[32mimport \u001b[36morg.apache.spark.ml.feature._\u001b[0m\n",
       "\u001b[32mimport \u001b[36morg.apache.spark.ml.classification._\u001b[0m\n",
       "\u001b[32mimport \u001b[36morg.sqlite.JDBC\u001b[0m\n",
       "\u001b[32mimport \u001b[36mjava.sql.DriverManager\u001b[0m"
      ]
     },
     "metadata": {},
     "output_type": "display_data"
    }
   ],
   "source": [
    "import org.apache.spark.SparkContext\n",
    "import org.apache.spark.SparkContext._\n",
    "import org.apache.spark.sql._\n",
    "import org.apache.spark.sql.functions._\n",
    "import org.apache.spark.sql.types._\n",
    "import org.apache.spark.SparkConf\n",
    "\n",
    "import org.apache.spark.mllib.linalg._\n",
    "\n",
    "import org.apache.spark.ml\n",
    "import org.apache.spark.ml.Pipeline\n",
    "import org.apache.spark.ml.feature._\n",
    "import org.apache.spark.ml.classification._\n",
    "\n",
    "import org.sqlite.JDBC\n",
    "\n",
    "import java.sql.DriverManager"
   ]
  },
  {
   "cell_type": "code",
   "execution_count": 3,
   "metadata": {
    "collapsed": false,
    "scrolled": true
   },
   "outputs": [
    {
     "data": {
      "text/plain": [
       "\u001b[36muri\u001b[0m: \u001b[32mString\u001b[0m = \u001b[32m\"jdbc:sqlite:database.sqlite\"\u001b[0m\n",
       "\u001b[36mseriousCount\u001b[0m: \u001b[32mInt\u001b[0m = \u001b[32m30100\u001b[0m\n",
       "\u001b[36msarcasmCount\u001b[0m: \u001b[32mInt\u001b[0m = \u001b[32m30100\u001b[0m\n",
       "\u001b[36mnumFeatures\u001b[0m: \u001b[32mInt\u001b[0m = \u001b[32m5000\u001b[0m"
      ]
     },
     "metadata": {},
     "output_type": "display_data"
    }
   ],
   "source": [
    "val uri = \"jdbc:sqlite:database.sqlite\"\n",
    "\n",
    "val seriousCount = 30100\n",
    "val sarcasmCount = 30100\n",
    "val numFeatures = 5000"
   ]
  },
  {
   "cell_type": "markdown",
   "metadata": {},
   "source": [
    "Create the Spark context and start Spark"
   ]
  },
  {
   "cell_type": "code",
   "execution_count": 4,
   "metadata": {
    "collapsed": false,
    "scrolled": true
   },
   "outputs": [
    {
     "name": "stderr",
     "output_type": "stream",
     "text": [
      "Using Spark's default log4j profile: org/apache/spark/log4j-defaults.properties\n",
      "16/02/12 18:12:49 INFO SparkContext: Running Spark version 1.6.0\n",
      "16/02/12 18:12:49 WARN NativeCodeLoader: Unable to load native-hadoop library for your platform... using builtin-java classes where applicable\n",
      "16/02/12 18:12:50 INFO SecurityManager: Changing view acls to: amharc\n",
      "16/02/12 18:12:50 INFO SecurityManager: Changing modify acls to: amharc\n",
      "16/02/12 18:12:50 INFO SecurityManager: SecurityManager: authentication disabled; ui acls disabled; users with view permissions: Set(amharc); users with modify permissions: Set(amharc)\n",
      "16/02/12 18:12:50 INFO Utils: Successfully started service 'sparkDriver' on port 36901.\n",
      "16/02/12 18:12:51 INFO Slf4jLogger: Slf4jLogger started\n",
      "16/02/12 18:12:51 INFO Remoting: Starting remoting\n",
      "16/02/12 18:12:51 INFO Remoting: Remoting started; listening on addresses :[akka.tcp://sparkDriverActorSystem@192.168.1.102:42560]\n",
      "16/02/12 18:12:51 INFO Utils: Successfully started service 'sparkDriverActorSystem' on port 42560.\n",
      "16/02/12 18:12:51 INFO SparkEnv: Registering MapOutputTracker\n",
      "16/02/12 18:12:51 INFO SparkEnv: Registering BlockManagerMaster\n",
      "16/02/12 18:12:51 INFO DiskBlockManager: Created local directory at /tmp/blockmgr-87d99674-eac9-4965-9243-452e9d369a3f\n",
      "16/02/12 18:12:51 INFO MemoryStore: MemoryStore started with capacity 2.4 GB\n",
      "16/02/12 18:12:51 INFO SparkEnv: Registering OutputCommitCoordinator\n",
      "16/02/12 18:12:52 INFO Utils: Successfully started service 'SparkUI' on port 4040.\n",
      "16/02/12 18:12:52 INFO SparkUI: Started SparkUI at http://192.168.1.102:4040\n",
      "16/02/12 18:12:52 INFO Executor: Starting executor ID driver on host localhost\n",
      "16/02/12 18:12:52 INFO Utils: Successfully started service 'org.apache.spark.network.netty.NettyBlockTransferService' on port 33330.\n",
      "16/02/12 18:12:52 INFO NettyBlockTransferService: Server created on 33330\n",
      "16/02/12 18:12:52 INFO BlockManagerMaster: Trying to register BlockManager\n",
      "16/02/12 18:12:52 INFO BlockManagerMasterEndpoint: Registering block manager localhost:33330 with 2.4 GB RAM, BlockManagerId(driver, localhost, 33330)\n",
      "16/02/12 18:12:52 INFO BlockManagerMaster: Registered BlockManager\n"
     ]
    },
    {
     "data": {
      "text/plain": [
       "\u001b[36mconf\u001b[0m: \u001b[32mSparkConf\u001b[0m = org.apache.spark.SparkConf@29df6bd0\n",
       "\u001b[36msc\u001b[0m: \u001b[32mSparkContext\u001b[0m = org.apache.spark.SparkContext@3c5d6655\n",
       "\u001b[36msqlContext\u001b[0m: \u001b[32mSQLContext\u001b[0m = org.apache.spark.sql.SQLContext@65fd157e"
      ]
     },
     "metadata": {},
     "output_type": "display_data"
    }
   ],
   "source": [
    "val conf = new SparkConf()\n",
    "    .setAppName(\"Solution\")\n",
    "    .setMaster(\"local[4]\")\n",
    "val sc = new SparkContext(conf)\n",
    "val sqlContext = new SQLContext(sc)"
   ]
  },
  {
   "cell_type": "markdown",
   "metadata": {},
   "source": [
    "Load the JDBC sqlite driver, so that the JVM will be happy"
   ]
  },
  {
   "cell_type": "code",
   "execution_count": 5,
   "metadata": {
    "collapsed": false,
    "scrolled": true
   },
   "outputs": [
    {
     "data": {
      "text/plain": [
       "\u001b[36mres4\u001b[0m: \u001b[32mClass\u001b[0m[\u001b[32m?0\u001b[0m] = class org.sqlite.JDBC"
      ]
     },
     "metadata": {},
     "output_type": "display_data"
    }
   ],
   "source": [
    "Class.forName(\"org.sqlite.JDBC\")"
   ]
  },
  {
   "cell_type": "markdown",
   "metadata": {},
   "source": [
    "Fix the database schema.\n",
    "\n",
    "The schema of the provided database.sqlite file lacks type signatures on some columns, which causes sqlite to report them as typeless, which Sqlite JDBC treats as \"type 0\" (implicit conversion), which JDBC interprets as NULL types, which causes spark sql to throw an exception.\n",
    "\n",
    "Because user-provided signatures are not available with spark sql's DefaultSource, manually overriding the types in sqlite seems to be the least invasive option to make spark understand the database.\n",
    "\n",
    "This function forcibly changes the schema of the 'May2015' table, annotating each previously-unannotated column explicitly as BLOB.\n",
    "Note that this keeps the affinity (see below), so no data loss occurs, but this\n",
    "causes the 'table_info' PRAGMA to return the correct types.\n",
    "\n",
    "Only the affinity of \"body\" is changed from BLOB to TEXT, but this should be harmless...\n"
   ]
  },
  {
   "cell_type": "code",
   "execution_count": 6,
   "metadata": {
    "collapsed": false
   },
   "outputs": [
    {
     "data": {
      "text/plain": [
       "\u001b[36mconn\u001b[0m: \u001b[32mjava\u001b[0m.\u001b[32msql\u001b[0m.\u001b[32mConnection\u001b[0m = org.sqlite.SQLiteConnection@5bc1bf57\n",
       "\u001b[36mstmt\u001b[0m: \u001b[32mjava\u001b[0m.\u001b[32msql\u001b[0m.\u001b[32mStatement\u001b[0m = org.sqlite.jdbc4.JDBC4Statement@389aaa18\n",
       "\u001b[36mres5_2\u001b[0m: \u001b[32mBoolean\u001b[0m = \u001b[32mfalse\u001b[0m\n",
       "\u001b[36mres5_3\u001b[0m: \u001b[32mBoolean\u001b[0m = \u001b[32mfalse\u001b[0m\n",
       "\u001b[36mres5_4\u001b[0m: \u001b[32mBoolean\u001b[0m = \u001b[32mfalse\u001b[0m"
      ]
     },
     "metadata": {},
     "output_type": "display_data"
    }
   ],
   "source": [
    "{\n",
    "    val conn = DriverManager.getConnection(uri)\n",
    "    val stmt = conn.createStatement()\n",
    "    stmt.execute(\"PRAGMA writable_schema = true\")\n",
    "    stmt.execute(\"UPDATE sqlite_master SET sql = '\" +\n",
    "      \"CREATE TABLE May2015(\" +\n",
    "        \"created_utc INTEGER,\" +\n",
    "        \"ups INTEGER,\" + \n",
    "        \"subreddit_id BLOB,\" +\n",
    "        \"link_id BLOB,\" +\n",
    "        \"name BLOB,\" +\n",
    "        \"score_hidden BLOB,\" +\n",
    "        \"author_flair_css_class BLOB,\" +\n",
    "        \"author_flair_text BLOB,\" +\n",
    "        \"subreddit BLOB,\" +\n",
    "        \"id BLOB,\" +\n",
    "        \"removal_reason BLOB,\" +\n",
    "        \"gilded int,\" +\n",
    "        \"downs int,\" +\n",
    "        \"archived BLOB,\" +\n",
    "        \"author BLOB,\" +\n",
    "        \"score int,\" +\n",
    "        \"retrieved_on int,\" +\n",
    "        \"body TEXT,\" +\n",
    "        \"distinguished BLOB,\" +\n",
    "        \"edited BLOB,\" +\n",
    "        \"controversiality int,\" +\n",
    "        \"parent_id BLOB)' \" +\n",
    "      \"WHERE name='May2015'\")\n",
    "    stmt.execute(\"PRAGMA writable_schema = false\")\n",
    "}"
   ]
  },
  {
   "cell_type": "code",
   "execution_count": 7,
   "metadata": {
    "collapsed": false
   },
   "outputs": [
    {
     "data": {
      "text/plain": [
       "\u001b[36mdf\u001b[0m: \u001b[32mDataFrame\u001b[0m = [created_utc: bigint, ups: bigint, subreddit_id: binary, link_id: binary, name: binary, score_hidden: binary, author_flair_css_class: binary, author_flair_text: binary, subreddit: binary, id: binary, removal_reason: binary, gilded: bigint, downs: bigint, archived: binary, author: binary, score: bigint, retrieved_on: bigint, body: string, distinguished: binary, edited: binary, controversiality: bigint, parent_id: binary]"
      ]
     },
     "metadata": {},
     "output_type": "display_data"
    }
   ],
   "source": [
    "val df = sqlContext.read.format(\"jdbc\")\n",
    "      .options(Map(\n",
    "          \"url\" -> uri,\n",
    "          \"dbtable\" -> \"May2015\"\n",
    "        ))\n",
    "      .load()"
   ]
  },
  {
   "cell_type": "code",
   "execution_count": 8,
   "metadata": {
    "collapsed": false
   },
   "outputs": [
    {
     "data": {
      "text/plain": [
       "\u001b[36msarcasm\u001b[0m: \u001b[32mDataFrame\u001b[0m = [created_utc: bigint, ups: bigint, subreddit_id: binary, link_id: binary, name: binary, score_hidden: binary, author_flair_css_class: binary, author_flair_text: binary, subreddit: binary, id: binary, removal_reason: binary, gilded: bigint, downs: bigint, archived: binary, author: binary, score: bigint, retrieved_on: bigint, body: string, distinguished: binary, edited: binary, controversiality: bigint, parent_id: binary, label: double]\n",
       "\u001b[36mserious\u001b[0m: \u001b[32mDataFrame\u001b[0m = [created_utc: bigint, ups: bigint, subreddit_id: binary, link_id: binary, name: binary, score_hidden: binary, author_flair_css_class: binary, author_flair_text: binary, subreddit: binary, id: binary, removal_reason: binary, gilded: bigint, downs: bigint, archived: binary, author: binary, score: bigint, retrieved_on: bigint, body: string, distinguished: binary, edited: binary, controversiality: bigint, parent_id: binary, label: double]\n",
       "\u001b[36mtogether\u001b[0m: \u001b[32mDataFrame\u001b[0m = [created_utc: bigint, ups: bigint, subreddit_id: binary, link_id: binary, name: binary, score_hidden: binary, author_flair_css_class: binary, author_flair_text: binary, subreddit: binary, id: binary, removal_reason: binary, gilded: bigint, downs: bigint, archived: binary, author: binary, score: bigint, retrieved_on: bigint, body: string, distinguished: binary, edited: binary, controversiality: bigint, parent_id: binary, label: double]"
      ]
     },
     "metadata": {},
     "output_type": "display_data"
    }
   ],
   "source": [
    "val sarcasm = df\n",
    "    .filter(df(\"body\").endsWith(\" /s\"))\n",
    "    .withColumn(\"label\", lit(1.0))\n",
    "    .limit(sarcasmCount)\n",
    "    .cache()\n",
    "\n",
    "val serious = df\n",
    "    .filter(!df(\"body\").contains(\"/s\"))\n",
    "    .withColumn(\"label\", lit(0.0))\n",
    "    .limit(seriousCount)\n",
    "    .cache()\n",
    "\n",
    "val together = serious.unionAll(sarcasm)"
   ]
  },
  {
   "cell_type": "code",
   "execution_count": 9,
   "metadata": {
    "collapsed": false
   },
   "outputs": [
    {
     "name": "stdout",
     "output_type": "stream",
     "text": [
      "[Having sex with my girlfriend at least 5 times a day is my main escape. I am FA because I would like a second girlfriend for regular threesomes but she doesn't want to. /s]\n",
      "[Awesome case, plus those blue LEDs make your framerate higher. /s]\n",
      "[I don't know man. [This](http://www.reddit.com/r/WTF/comments/34f7fx/went_fishing_didnt_catch_a_fish/) guy caught a rusty gun while fishing. I mean, are you  trying to tell me that this guy with maggots chomping on his flesh is **more** wtf than that? /s]\n",
      "[because he is famous\n",
      "\n",
      "Edit: oh yeah /s]\n",
      "[&gt; My deputies did their job to the fullest extent of their abilities....In the sense that we kept these drugs from reaching our streets, this operation was a success...\n",
      "\n",
      "Yup, I lived in BH at the time and remember how hard it was to find weed after that. /s]\n",
      "[Because what better way to woo affection from the ladies than mentioning their bodies in a love letter? /s]\n",
      "[Slightly over half.. last I checked the world was 51% male.. which of course means majority rules! /s]\n",
      "[I know right. Reddit is a key component in the HAES movement so I too am really surprised you didn't get downvoted to oblivion. /s]\n",
      "[&gt; I still don't understand why anyone votes labour these days, after Blair and Brown.\n",
      "\n",
      "There are people up north that will always vote Labour, because their family historically has. It's a great system when people vote against their interests because of generational pressure. /s]\n",
      "[yea that'll get them back in the game /s]\n",
      "[Define lift. If we were orbiting the earth, and able to see the entirety of the earth, from our perspective, the earth would be \"lifting\" the things on the bottom half of it /s]\n",
      "[see you at the front page! /s]\n",
      "[What a surprise! /s]\n",
      "[Hush you men aren't being objectified they can't be they have all the privilege! /s]\n",
      "[they picked jameis? whhhatt no wayyy /s]\n",
      "[Scroll down and look for the match thread, all discussion goes there. \n",
      "\n",
      "Oh and nice skins, probably worth a lot. /s]\n",
      "[yeah f**king productivity killing communist unions... /s]\n",
      "[I have no blocked sites at my school. I can watch midget porn whenever I so desire /s]\n",
      "[Thought they would go for La'el Collins /s]\n",
      "[Of course its the one in the back. Otherwise she would have good genes like the rest of them and skinny /s]\n"
     ]
    },
    {
     "data": {
      "text/plain": []
     },
     "metadata": {},
     "output_type": "display_data"
    }
   ],
   "source": [
    "sarcasm\n",
    "    .select(\"body\")\n",
    "    .limit(20)\n",
    "    .collect()\n",
    "    .foreach(println)"
   ]
  },
  {
   "cell_type": "code",
   "execution_count": 10,
   "metadata": {
    "collapsed": false
   },
   "outputs": [
    {
     "name": "stdout",
     "output_type": "stream",
     "text": [
      "[くそ\n",
      "読みたいが買ったら負けな気がする\n",
      "図書館に出ねーかな]\n",
      "[gg this one's over. off to watch the NFL draft I guess]\n",
      "[Are you really implying we return to those times or anywhere near that political environment?  If so, you won't have much luck selling the American people on that governance concept without ushering in American Revolution 2.0.]\n",
      "[No one has a European accent either  because it doesn't exist. There are accents from Europe but not a European accent.]\n",
      "[That the kid \"..reminds me of Kevin.\"   so sad :-(]\n",
      "[Haha, i was getting nauseous from it, if that was your ingame experience that would have given a whole new level of Bloodborne ^^ ]\n",
      "[After reading this, I wholeheartedly believe you should let her go. \n",
      "\n",
      "You and her simply aren't compatible. She's looking for a committment and you're bent on avoiding it. You should figure out your committment issues before getting into a committed relationship.  ]\n",
      "[Let's do this. See you guys on the other side.]\n",
      "[You can buy a mystery sampler from small batch and request them]\n",
      "[Nihilum and LG are significantly better off in theory. I can't really think of a replacement for Ptr that would leave CLG in a better place than they were before. Cloud9 should be much better, but you never know.]\n",
      "[Fuck that what]\n",
      "[Don't diss the Grim Puncher!]\n",
      "[Your 16 bars seems to focus on introducing yourself rather than a life you think is worth living. I understand if you introduced yourself in a few lines that made sense to the theme such as the line “I fear my life remains aimless, I traded paper for a lane switch.” That made sense to the theme because it could be used to tell the audience how you don’t have a life worth living (yet). But lines like “If you fight me, I'ma show hands and throw down on yo ass like the young motherfucking Sylvester Stallone has” has a place for introducing yourself, but not for the theme of a life worth living.]\n",
      "[Trinus vr is amazing but it'd be cool to be able to just sit anywhere and play without turning the pc on, it seems like a waste not making fully functional games for gc.]\n",
      "[It's not your fault don't think that. Hey if this helps it does then if it doesn't well. At least I can talk about it.\n",
      "\n",
      "I shot my dog. I had him for 10 years. I can home from partying and it was New Years so I was going to shoot off my .40 so...\n",
      "\n",
      "Well I was loading it outside and I shot it off accidentally. Right into my dog. Me having about 5-7 tequila shots into me though if I go to sleep I would wake up and he would be okay. Well if I called a vet when I shot him I could have saved him. Or at least from his pain. So I woke up saw a dead dog in my yard… i cried for hours. That old dog still had a few good years in him. \n",
      "\n",
      "That was my fault and you sitting on a little tiny mouse is more understandable than a man discharging a firearm into a shitzu. Don't feel to bad. ]\n",
      "[and what about all of the players who hit vr 14 after 1.6 but before the removal of them?]\n",
      "[I would be tempted to excuse myself to the bathroom every time (so you don't piss him off, because he's your boss), with disgusting details (for negative reinforcement purposes). \n",
      "\n",
      "\"Hold on, sir, I really want to hear more about the mucus plug, but I have to run before I end up with mushy green diarrhea in my pants. Be right back.\"]\n",
      "[I can't answer better than Acquittal. \n",
      "\n",
      "I just want you to know that I think you made the right decision. Good luck ! ]\n",
      "[NSFL]\n",
      "[I'd recommend, if you have the time, to get an account with Citibank and get the Citibank Plus transaction account - they have no fees on currency conversion or transfers and charge no international atm withdrawal fees. Been using them recently for my overseas trips, pretty handy.]\n"
     ]
    },
    {
     "data": {
      "text/plain": []
     },
     "metadata": {},
     "output_type": "display_data"
    }
   ],
   "source": [
    "serious\n",
    "    .select(\"body\")\n",
    "    .limit(20)\n",
    "    .collect()\n",
    "    .foreach(println)"
   ]
  },
  {
   "cell_type": "code",
   "execution_count": 11,
   "metadata": {
    "collapsed": false
   },
   "outputs": [
    {
     "data": {
      "text/plain": [
       "\u001b[36mtrainData\u001b[0m: \u001b[32mDataFrame\u001b[0m = [created_utc: bigint, ups: bigint, subreddit_id: binary, link_id: binary, name: binary, score_hidden: binary, author_flair_css_class: binary, author_flair_text: binary, subreddit: binary, id: binary, removal_reason: binary, gilded: bigint, downs: bigint, archived: binary, author: binary, score: bigint, retrieved_on: bigint, body: string, distinguished: binary, edited: binary, controversiality: bigint, parent_id: binary, label: double]\n",
       "\u001b[36mholdoutData\u001b[0m: \u001b[32mDataFrame\u001b[0m = [created_utc: bigint, ups: bigint, subreddit_id: binary, link_id: binary, name: binary, score_hidden: binary, author_flair_css_class: binary, author_flair_text: binary, subreddit: binary, id: binary, removal_reason: binary, gilded: bigint, downs: bigint, archived: binary, author: binary, score: bigint, retrieved_on: bigint, body: string, distinguished: binary, edited: binary, controversiality: bigint, parent_id: binary, label: double]"
      ]
     },
     "metadata": {},
     "output_type": "display_data"
    }
   ],
   "source": [
    "val Array(trainData, holdoutData) = together.randomSplit(Array(0.67, 0.33))"
   ]
  },
  {
   "cell_type": "code",
   "execution_count": 12,
   "metadata": {
    "collapsed": false
   },
   "outputs": [
    {
     "data": {
      "text/plain": [
       "\u001b[36mtokenizer\u001b[0m: \u001b[32mTokenizer\u001b[0m = tok_e3f02b093cf9\n",
       "\u001b[36mremover\u001b[0m: \u001b[32mStopWordsRemover\u001b[0m = stopWords_61249fdd07b3"
      ]
     },
     "metadata": {},
     "output_type": "display_data"
    }
   ],
   "source": [
    "val tokenizer = new Tokenizer()\n",
    "      .setInputCol(\"body\")\n",
    "      .setOutputCol(\"words\")\n",
    "\n",
    "val remover = new StopWordsRemover()\n",
    "      .setInputCol(\"words\")\n",
    "      .setOutputCol(\"filteredWords\")\n",
    "      .setStopWords(Array(\"/s\"))"
   ]
  },
  {
   "cell_type": "code",
   "execution_count": 13,
   "metadata": {
    "collapsed": false
   },
   "outputs": [
    {
     "data": {
      "text/plain": [
       "\u001b[36mhashingTF\u001b[0m: \u001b[32mHashingTF\u001b[0m = hashingTF_0d8fb741cd26\n",
       "\u001b[36midf\u001b[0m: \u001b[32mIDF\u001b[0m = idf_2e22c6847277"
      ]
     },
     "metadata": {},
     "output_type": "display_data"
    }
   ],
   "source": [
    "val hashingTF = new HashingTF()\n",
    "      .setInputCol(\"filteredWords\")\n",
    "      .setOutputCol(\"rawFeatures\")\n",
    "      .setNumFeatures(numFeatures)\n",
    "\n",
    "val idf = new IDF()\n",
    "      .setInputCol(\"rawFeatures\")\n",
    "      .setOutputCol(\"features\")"
   ]
  },
  {
   "cell_type": "code",
   "execution_count": 14,
   "metadata": {
    "collapsed": false
   },
   "outputs": [
    {
     "data": {
      "text/plain": [
       "\u001b[36mlr\u001b[0m: \u001b[32mLogisticRegression\u001b[0m = logreg_0ff01226d396"
      ]
     },
     "metadata": {},
     "output_type": "display_data"
    }
   ],
   "source": [
    "val lr = new LogisticRegression()\n",
    "      .setMaxIter(100)\n",
    "      .setRegParam(1/1.25)"
   ]
  },
  {
   "cell_type": "code",
   "execution_count": 15,
   "metadata": {
    "collapsed": false
   },
   "outputs": [
    {
     "data": {
      "text/plain": [
       "\u001b[36mpipeline\u001b[0m: \u001b[32mPipeline\u001b[0m = pipeline_bf1cd6bb8213"
      ]
     },
     "metadata": {},
     "output_type": "display_data"
    }
   ],
   "source": [
    "val pipeline = new Pipeline()\n",
    "      .setStages(Array(tokenizer, remover, hashingTF, idf, lr))"
   ]
  },
  {
   "cell_type": "code",
   "execution_count": 16,
   "metadata": {
    "collapsed": false
   },
   "outputs": [
    {
     "data": {
      "text/plain": [
       "\u001b[36mmodel\u001b[0m: \u001b[32mml\u001b[0m.\u001b[32mPipelineModel\u001b[0m = pipeline_bf1cd6bb8213"
      ]
     },
     "metadata": {},
     "output_type": "display_data"
    }
   ],
   "source": [
    "val model = pipeline.fit(trainData)"
   ]
  },
  {
   "cell_type": "code",
   "execution_count": 17,
   "metadata": {
    "collapsed": false
   },
   "outputs": [
    {
     "data": {
      "text/plain": [
       "\u001b[36mpredictions\u001b[0m: \u001b[32mDataFrame\u001b[0m = [created_utc: bigint, ups: bigint, subreddit_id: binary, link_id: binary, name: binary, score_hidden: binary, author_flair_css_class: binary, author_flair_text: binary, subreddit: binary, id: binary, removal_reason: binary, gilded: bigint, downs: bigint, archived: binary, author: binary, score: bigint, retrieved_on: bigint, body: string, distinguished: binary, edited: binary, controversiality: bigint, parent_id: binary, label: double, words: array<string>, filteredWords: array<string>, rawFeatures: vector, features: vector, rawPrediction: vector, probability: vector, prediction: double]"
      ]
     },
     "metadata": {},
     "output_type": "display_data"
    }
   ],
   "source": [
    "val predictions = model.transform(holdoutData).cache()"
   ]
  },
  {
   "cell_type": "markdown",
   "metadata": {},
   "source": [
    "Find some sarcastic comments"
   ]
  },
  {
   "cell_type": "code",
   "execution_count": 18,
   "metadata": {
    "collapsed": false
   },
   "outputs": [
    {
     "name": "stdout",
     "output_type": "stream",
     "text": [
      "[くそ\n",
      "読みたいが買ったら負けな気がする\n",
      "図書館に出ねーかな]\n",
      "[and what about all of the players who hit vr 14 after 1.6 but before the removal of them?]\n",
      "[NSFL]\n",
      "[In other words, never make a decision, and you will remain forever free]\n",
      "[As the great Alex James said, \"A man with a Barbour jacket and a bottle of champagne is invincible\" - get the Barbour! It compliments your build the best and it's just an awesome jacket]\n",
      "[no money, just ID, driver license, credit cards and a subway stampcard]\n",
      "[so fucking inspirational ]\n",
      "[ErickCachorroZL157]\n",
      "[&gt;maybe jews\n",
      "\n",
      "not maybe]\n",
      "[But that isn't what is going on. You keep saying throwing bricks or rocks. That is the least of Baltimore s problem. The violence isn't even against the police.  It is against businesses and people, predominantly white people. That is racism. None of it is justified. Just like the LA riots weren't\n",
      "\n",
      "I am white &amp; I am not a racist. I don't support racism.]\n",
      "[I can't understand why they are so expensive, especially with the  console versions going for $2.  PC i supposed to be cheaper!]\n",
      "[M8. C'mon.]\n",
      "[They're oh-so-bravely standing up to the massive circlejerk... only to be showered in upvotes, and probably gold.]\n",
      "[Yeah, but [60% boards,](http://i.imgur.com/gKoR38B.png) and the like, have layouts that are of normal size, just very minimal in all other aspects. What I mean is, all the keys are about the same size, and about the same distance from each other as larger, more regular keyboards; they just have fewer keys and lower profile casings etc.\n",
      "\n",
      "This keyboard looks like all the keys are smaller, and not spaced out to compensate for the size, meaning the whole layout is very compressed. Must be intended for mobile/portable use.]\n",
      "[Sounds to me like unprofitable businesses are finding anything to blame but themselves for their failures.  Nah, can't be.  People who run businesses are all brilliant captains of industry incapable of failure, right?]\n",
      "[Good thing you didn't get pulled over by a Cop, who would have taken that cash off your hands.]\n",
      "[Nope. ]\n",
      "[Because they, in fact, we the British, are cowards who shy away from real, painful issues like Rotherham, and squabble over non-issues like this. ]\n",
      "[Why choose to stop glazing all the way through?]\n",
      "[Idiot, tattoos are permanent. ]\n"
     ]
    },
    {
     "data": {
      "text/plain": []
     },
     "metadata": {},
     "output_type": "display_data"
    }
   ],
   "source": [
    "predictions\n",
    "    .filter(expr(\"prediction = 1.0\"))\n",
    "    .limit(20)\n",
    "    .select(\"body\")\n",
    "    .collect()\n",
    "    .foreach(println)"
   ]
  },
  {
   "cell_type": "code",
   "execution_count": 19,
   "metadata": {
    "collapsed": false
   },
   "outputs": [
    {
     "name": "stdout",
     "output_type": "stream",
     "text": [
      "[Let's do this. See you guys on the other side.]\n",
      "[You can buy a mystery sampler from small batch and request them]\n",
      "[I can't answer better than Acquittal. \n",
      "\n",
      "I just want you to know that I think you made the right decision. Good luck ! ]\n",
      "[99.99% of the power is filtered on the motherboard before it reaches any core components. hence no crashing, really shitty power supply will cause it to crash if its really bad, I.E. bad caps in the PSU. good grammar and punctuation on the Internets dose not mean you're smart, douche. ]\n",
      "[[deleted]]\n",
      "[Me too. Same hammock fabric, too.]\n",
      "[I would like to use them for training ]\n",
      "[The fire escape is there. You hear wood splintering, and look to see that a raptor has managed to break a hole in the top of the door, just above the dresser. Its head pokes through, then disappears. There's another thud, and the dresser moves forward a few inches.]\n",
      "[Definitely test a few.  I was told as a beginner I would be happy with a 10 ft sit-on. But I have some boating experience,  and ended up with a 12.5 ft sit-in.  I love the weight and the response time.  And I can go a lot further in it.  Splash splash! ]\n",
      "[On my Schalke save I'm using the same formation but retain possession short passing and work ball into box. Then against big teams and tough away games I go play narrower and exploit the flanks and against easier teams at home I go play wider. Whipped crosses, Close down More, Get stuck in on both. \n",
      "\n",
      "I have one DLP and BBM in my home tactic and a BWM and a DLP in my away tactic. Meyer I play Attacking Mid so he contributes more to the defensive side of things. One WB on my home tactic and 1 FB and 2 FBs on my away tactic. \n",
      "\n",
      "I had to get another good midfielder so I bought the two Romero's, bought Silva for the LB, luckily their front 4 are all great starters including the back ups so I haven't had to buy much there. ]\n",
      "[Cleveland checking in!]\n",
      "[[deleted]]\n",
      "[Very low level, subtle mania.  From my coworkers reactions I'd guess it's just efficient zombie mode.  What I notice more often is that I'm physically tired.  Still alert enough mentally.  Dumb typo mistakes from my mind has moved on but the fingers are left to finish up the words.  Last night I get maybe 3-4 hours sleep.  Waking up kind of sucks, but when I first wake up, the brain fog lifts right away.  The next today (today) I'll go to bed earlier.  That means I'll wake up in the middle of night.  Once awake, wide awake.  But I know to wait and eventually fall asleep again or my sleep schedule is even further off.  Since I got more sleep, I can stay up a long time the next day.  And then on the weekends I'm ending up staying in bed, dozing or sleeping until the afternoon or evening.   \n",
      "\n",
      "Memory consolidation I still wonder about.  Am I not remembering as much if I sleep less?  Is my brain processing everything faster than normal, and it just doesn't need any extra time?  In terms of time having extra hours in the day is nice.  I get more done.  And that's translated into spending more time at work.  $$$  In terms of quality, it's kind of blah.  Blah before, blah now, but I feel less here.]\n",
      "[I'm a member of the tea party.]\n",
      "[Henchmen beware! Batman does not care if you are taking a shit.]\n",
      "[oh.. Well, sorry for the rage then. Also thank you for clearing it up and being so kind.]\n",
      "[That's one reason for it, but not the only one.  The other major one is the increased incidence of forced sex / indoctrination between families.]\n",
      "[I'm trying to eat a fucking fajita here dammit]\n",
      "[Thank you for your advice. I'll try to remember that this all takes time-even though it's frustrating :)]\n",
      "[I think the whole \"American politics are crazy\" thing came from the fact that they are relatively transparent and that we treat them half seriously and half as entertainment value and then export them to the rest of the world for the same purpose.  If you have a modicum of understanding of how the American system works and who some of the major personalities are, you can enjoy shows like the Daily Show.  I'm sure satirical political programming exists in other countries, but we've mastered the genre.  Plus its like sports-- we can banter about how bad our team's draft picks were and how congress/the president/the democrats/the republicans are taking us to hell in a hand basket over a few beers.\n",
      "\n",
      "because when I read about some of the political sleaze that goes on in other countries that I never hear about, I'm fascinated and amazed.]\n"
     ]
    },
    {
     "data": {
      "text/plain": []
     },
     "metadata": {},
     "output_type": "display_data"
    }
   ],
   "source": [
    "predictions\n",
    "    .filter(expr(\"prediction = 0.0\"))\n",
    "    .limit(20)\n",
    "    .select(\"body\")\n",
    "    .collect()\n",
    "    .foreach(println)"
   ]
  },
  {
   "cell_type": "code",
   "execution_count": 20,
   "metadata": {
    "collapsed": false
   },
   "outputs": [
    {
     "data": {
      "text/plain": [
       "\u001b[36mvals\u001b[0m: \u001b[32mArray\u001b[0m[\u001b[32mRow\u001b[0m] = \u001b[33mArray\u001b[0m(\n",
       "  [[0.4600140536213604,0.5399859463786397],1.0,くそ\n",
       "読みたいが買ったら負けな気がする\n",
       "図書館に出ねーかな],\n",
       "  [[0.5107539447420855,0.48924605525791454],0.0,Let's do this. See you guys on the other side.],\n",
       "  [[0.5054309045780849,0.4945690954219151],0.0,You can buy a mystery sampler from small batch and request them],\n",
       "  [[0.45381039081448055,0.5461896091855194],1.0,and what about all of the players who hit vr 14 after 1.6 but before the removal of them?],\n",
       "  [[0.5468139451863717,0.45318605481362834],0.0,I can't answer better than Acquittal. \n",
       "\n",
       "I just want you to know that I think you made the right decision. Good luck ! ],\n",
       "  [[0.48498279714390263,0.5150172028560973],1.0,NSFL],\n",
       "  [[0.6272024268826191,0.3727975731173809],0.0,99.99% of the power is filtered on the motherboard before it reaches any core components. hence no crashing, really shitty power supply will cause it to crash if its really bad, I.E. bad caps in the PSU. good grammar and punctuation on the Internets dose not mean you're smart, douche. ],\n",
       "\u001b[33m...\u001b[0m"
      ]
     },
     "metadata": {},
     "output_type": "display_data"
    }
   ],
   "source": [
    "val vals = predictions\n",
    "    .select(\"probability\", \"prediction\", \"body\")\n",
    "    .limit(100000)\n",
    "    .collect()"
   ]
  },
  {
   "cell_type": "code",
   "execution_count": 25,
   "metadata": {
    "collapsed": false
   },
   "outputs": [
    {
     "name": "stdout",
     "output_type": "stream",
     "text": [
      "[[0.07342791391436534,0.9265720860856347],1.0,Here's a small and very incomplete list of why nobody cares what the Bible says.\n",
      "\n",
      "Issue | Bible | Modern\n",
      "-----:|:-----:|:-----:\n",
      "Lying to your children about if a fruit is deadly or not. | ✔ | ✘\n",
      "Punishing your children when they catch you in your lie. | ✔ | ✘\n",
      "Murdering your son because a voice told you to. | ✔ | ✘\n",
      "Murdering your son because everyone else disobeyed you. | ✔ | ✘\n",
      "Drowning everyone who disagrees with you. | ✔ | ✘\n",
      "Eating lobster. | ✘ | ✔\n",
      "Selling your daughter into sexual slavery. | ✔ | ✘\n",
      "Freedom of religion. | ✘ | ✔\n",
      "Letting people with disabilities go to church. | ✘ | ✔\n",
      "Murdering disrespectful children. | ✔ | ✘\n",
      "Slavery. | ✔ | ✘\n",
      "Different slavery in some special context. | ✔ | ✘\n",
      "Beating your slaves so badly they take three days to recover. | ✔ | ✘\n",
      "Forcing a woman to marry her rapist. | ✔ | ✘\n",
      "Allowing women to speak in church. | ✘ | ✔\n",
      "Male on male sex. | ✘ | ✔\n",
      "Adult on prepubescent sex. | ✔ | ✘\n",
      "Offering your daughters to a rape mob. | ✔ | ✘\n",
      "Killing anyone who can't prove their god is real via direct observation. | ✔ | ✘\n",
      "Tricking your father into giving you your brother's inheritance. | ✔ | ✘\n",
      "Making your enemies eat their own babies. | ✔ | ✘\n",
      "Working weekends. | ✘ | ✔\n",
      "Pretending that the Bible allows any jot or tittle of the law to be altered. | ✘ | ✔\n",
      "Making excuses that the Bible doesn't mean what it says it means. | ✘ | ✔]\n",
      "[[0.13686658461126788,0.8631334153887322],1.0,&gt;All that that shows is that saving humanity is preferable is preferable to not saving it. Assuming that that's not an option, prolonging the inevitable is seen as preferable to going quietly into the night.\n",
      "\n",
      "But... then that's just straight up evil. It's the deliberate and premeditated murder of another human being(s) without even the dubious 'justification' of saving everyone else. Acknowledging that but excusing it through a utilitarian point of view opens up moral relativism, which is the ethics equivalent of saying 'well that's just *your* opinion.'\n",
      "\n",
      "&gt;This is essential what OP wants to debate; not so much the morality of sacrificing a child from a utilitarian perspective (because any utilitarian worthy of the name is obviously going to argue that it's morally obligatory) but rather whether utilitarianism itself is moral.\n",
      "\n",
      "And there's the rub. Utilitarianism is effectively the promotion of the necessary or lesser evil, which is *still evil.* It's a plainly amoral philosophy, and OP knows that or he wouldn't have said \"I know this is a utilitarian argument but...\" That  \"but\" let's you know he's about to dismiss the problems with utilitarianism. Which means he knows it's wrong but doesn't care because *results* and you can't really argue against that.]\n",
      "[[0.15850187211712485,0.8414981278828751],1.0,Pour kompass , perso tu peux etre magouilleur ou crade sur certains points mais avoir des limites sur d'autres.\n",
      "\n",
      "Ce n'est pas parce que tu es corrompu ou escroc que tu toleres la pedophilie hein.\n",
      "\n",
      "Si il a fait des trucs louches, ca n'empeche pas a prioris de le croire meme si il faut prendre un peu de pincettes. Je connais plusieurs personnes pas tout a fait blanche qui ont quand meme des limites morales. Et je prefere largement ces personnes a des gens qui se disent tout blanc.\n",
      "\n",
      "Apres on verra ce que l'on en tire, meme si ca va etre un beau bordel, vu l'etat d'esprit de l'armée.\n",
      "]\n",
      "[[0.14863704631717203,0.851362953682828],1.0,No kidding. That last line in the article:\n",
      "\n",
      "&gt;\"It's being speculated there's quite a high probability of this authority being misused by game developers as it grants complete autonomy to developers, allowing them to ban players without any questions being asked by Valve.\"\n",
      "\n",
      "As it should be. Every flipping game since the dawn of multiplayer gaming has been this way. Cheating at Starcraft? Ban from Battle.net. Cheating at Halo 2? Ban from Xbox Live. Cheating in Counterstrike? Guess what Valve will ban you too.\n",
      "\n",
      "Specifically with the way games are continuously worked on post release these days, there's practically no reason why a developer shouldn't have control over their multiplayer environments. \n",
      "\n",
      "Like, what's a developer going to do that's \"misuse\"? The only realistic case of misuse I can think of is banning people who openly voice their opinion of dislike for a game, which if their opinion is that strong, they should seek a refund via the normal Steam channels. \n",
      "\n",
      "This is like, one of those things thats like 95% good and 5% bad. ]\n",
      "[[0.17928984430533362,0.8207101556946664],1.0,༼ つ ◕_◕ ༽つGIVE BETA༼ つ ◕_◕ ༽つ ༼ つ ◕_◕ ༽つGIVE BETA༼ つ ◕_◕ ༽つ ༼ つ ◕_◕ ༽つGIVE BETA༼ つ ◕_◕ ༽つ ༼ つ ◕_◕ ༽つGIVE BETA༼ つ ◕_◕ ༽つ ༼ つ ◕_◕ ༽つGIVE BETA༼ つ ◕_◕ ༽つ ༼ つ ◕_◕ ༽つGIVE BETA༼ つ ◕_◕ ༽つ ༼ つ ◕_◕ ༽つGIVE BETA༼ つ ◕_◕ ༽つ ༼ つ ◕_◕ ༽つGIVE BETA༼ つ ◕_◕ ༽つ ༼ つ ◕_◕ ༽つGIVE BETA༼ つ ◕_◕ ༽つ]\n",
      "[[0.17818268352313424,0.8218173164768658],1.0,Oh no! Mighty Congo is coming for us! Fear them! Oh no! Woe is me! Woe is me! Spare us, mighty Zaire! /s]\n",
      "[[0.1979251755684301,0.80207482443157],1.0,&gt;Grapjes over politici ten spijt, is het natuurlijk pure ongelijkheid dat je hier loopt te verdedigen. Vernederen van communisten, hippies, liberalen, PVV'ers - allemaal prima, maar denk er niet over om moslims te vernederen...\n",
      "\n",
      "Welke conclusie je hieruit trekt moet je zelf weten (en er is voor veel standpunten iets te zeggen), maar er is wel een belangrijk verschil: politieke spotprenten gaan over (potentiële) bestuurders van ons land. In een (representatieve) democratie is het belangrijk dat mensen een geïnformeerde stem kunnen uitbrengen en daarom moeten de kanalen voor politieke verslaggeving beschermd worden tegen de overheid (die andere belangen heeft dan de burger). De Islam is *geen* politieke partij, maar er is wel een *minderheid* van Moslims in ons land. Zij moeten zelfs tot op zekere hoogte beschermd worden (en ook over deze mate van bescherming zijn meerdere standpunten in te nemen).\n",
      "\n",
      "Edit: jullie downvotes brengen mijn vrijheid van meningsuiting in gevaar. Ik ga jullie elke dag belachelijk maken tot mijn mening ge-upvote wordt! /s]\n",
      "[[0.1688159457739863,0.8311840542260137],1.0,Yeah, but those were just little earthquakes!  Plus nobody has conclusively proven that they were the result of fracking, and nobody was hurt so what's the problem, right?\n",
      "\n",
      "And these chemicals?  Completely harmless.  That's why the industry has never tried to refute studies like this...because if the chemicals are harmless, then what's the big deal if they're in the drinking water.  Right?\n",
      "\n",
      "Why for all we know this stuff might cure cancer!  Don't you want to cure cancer, and secure the nation's energy future at the same time? /s]\n",
      "[[0.1692532472857343,0.8307467527142657],1.0,Jet fuel can't melt steel beams\n",
      "\n",
      "Jet fuel can't melt steel beams\n",
      "\n",
      "Jet fuel can't melt steel beams\n",
      "\n",
      "Jet fuel can't melt steel beams\n",
      "\n",
      "Jet fuel can't melt steel beams\n",
      "\n",
      "Jet fuel can't melt steel beams\n",
      "\n",
      "Jet fuel can't melt steel beams\n",
      "\n",
      "Jet fuel can't melt steel beams\n",
      "\n",
      "\n",
      "\n",
      "*Edit; that's what the pages would say, not an actual fact.\n",
      "\n",
      "PS pls don't tin foil me /s]\n",
      "[[0.13160269965775875,0.8683973003422412],1.0,Women dress for men you know? It's not like yoga pants are comfortable or anything, you know, they have to realize that if they wear those things that we are going to see them. They should always dress themselves according to how they look to the male gazer.\n",
      "\n",
      "Patriarchy? Bullshit! Women can do what ever they want! They judge each other than we judge them, amirite? It's just that if they look too bad we'll post their picture online to laugh at it with our friends, and if they look too good we will also post a photo online to show off to our friends that we SAW a good looking girl and never said a word to her. God. I'm such a nice and understanding guy. We're all nice and understanding guys, we just don't have girlfriends because women are the terrible people. Also feminism is unneccessary because of all the things I said above. God bless america.\n",
      "\n",
      "In case someone can't tell, this is totally not sarcasm. /s]\n",
      "[[0.14698346031243806,0.853016539687562],1.0,&gt;Pensemos no que torna uma garota \"vadia\" aos olhos dos moleques que fazem esses rankings. Não seria justamente o fato de algumas meninas corresponderem aos assédios que eles mesmos praticam?\n",
      "\n",
      "Quem garante? Fama pode não condizer com a realidade, derrepente um moleque tomou fora e ficou alardeando que a menina era vadia.\n",
      "\n",
      "&gt;A conclusão sobre isso é que a coisa mais fácil do mundo é se fazer de vítima.\n",
      "\n",
      "Elas são sim vítimas, sem discussão.\n",
      "\n",
      "&gt; Difícil é encarar os problemas olhando primeiro para dentro e se perguntar: \"não seria o comportamento do outro um espelho do meu próprio?\"\n",
      "\n",
      "Sim, é o mínimo de se esperar de uma criança de 14/15 anos. /s]\n",
      "[[0.1787547379769843,0.8212452620230156],1.0,Yeah sure, prohibition has totally worked for alcohol, marijuana, cocaine, meth and a bunch of other drugs. Totally hasn't created a black market, which promotes violence and corruption around the world. /s]\n"
     ]
    },
    {
     "data": {
      "text/plain": []
     },
     "metadata": {},
     "output_type": "display_data"
    }
   ],
   "source": [
    "vals.filter(x => x(0).asInstanceOf[DenseVector](1) > 0.8).foreach(println)"
   ]
  },
  {
   "cell_type": "code",
   "execution_count": 22,
   "metadata": {
    "collapsed": false,
    "scrolled": true
   },
   "outputs": [
    {
     "name": "stdout",
     "output_type": "stream",
     "text": [
      "+------------------------------+------------+\n",
      "|sum(abs((prediction - label)))|count(label)|\n",
      "+------------------------------+------------+\n",
      "|                        6559.0|       19925|\n",
      "+------------------------------+------------+\n",
      "\n"
     ]
    },
    {
     "data": {
      "text/plain": []
     },
     "metadata": {},
     "output_type": "display_data"
    }
   ],
   "source": [
    "predictions.agg(sum(abs(expr(\"prediction - label\"))), count(col(\"label\"))).show()"
   ]
  }
 ],
 "metadata": {
  "kernelspec": {
   "display_name": "Scala 2.11",
   "language": "scala211",
   "name": "scala211"
  },
  "language_info": {
   "codemirror_mode": "text/x-scala",
   "file_extension": ".scala",
   "mimetype": "text/x-scala",
   "name": "scala211",
   "pygments_lexer": "scala",
   "version": "2.11.7"
  }
 },
 "nbformat": 4,
 "nbformat_minor": 0
}
